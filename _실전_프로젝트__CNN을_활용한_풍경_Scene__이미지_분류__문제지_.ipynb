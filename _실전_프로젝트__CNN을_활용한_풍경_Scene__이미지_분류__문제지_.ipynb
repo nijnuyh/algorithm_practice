{
  "nbformat": 4,
  "nbformat_minor": 0,
  "metadata": {
    "colab": {
      "provenance": [],
      "collapsed_sections": []
    },
    "kernelspec": {
      "name": "python3",
      "display_name": "Python 3"
    },
    "language_info": {
      "name": "python"
    },
    "accelerator": "GPU"
  },
  "cells": [
    {
      "cell_type": "markdown",
      "metadata": {
        "id": "zrc03aoX6K28"
      },
      "source": [
        "### <b>실전 프로젝트 - CNN을 활용한 풍경(Scene) 이미지 분류</b>\n",
        "\n",
        "* 한 장의 풍경 이미지가 주어졌을 때, 어떠한 카테고리(category)에 속하는지 맞히는 <b>분류 모델</b>을 만드세요.\n",
        "* 다음의 세 가지 대표적인 CNN 모델을 실습합니다.\n",
        "    1. [LeNet (1998)](http://yann.lecun.com/exdb/publis/pdf/lecun-98.pdf)\n",
        "    2. [AlexNet (2012 NIPS)](https://papers.nips.cc/paper/2012/file/c399862d3b9d6b76c8436e924a68c45b-Paper.pdf)\n",
        "    3. [ResNet (2016 CVPR)](https://arxiv.org/abs/1512.03385)\n",
        "* 성능을 올릴 수 있는 두 가지 심화 기법을 실습합니다.\n",
        "    1. [Mixup (ICLR 2018)](https://arxiv.org/abs/1710.09412): 데이터 증진 기법의 일종으로 정확도를 높입니다.\n",
        "    2. Transfer Learning: 학습 속도와 정확도를 모두 향상시킬 수 있습니다.\n",
        "* 본 프로젝트는 <b>총 7개의 문제</b>로 구성됩니다.\n",
        "    * <b>Problem</b>이라고 명시된 부분의 소스코드만 작성합니다.\n",
        "    * <b>알아보기</b>라고 명시된 부분은 단순히 읽고 실행하면 됩니다.\n",
        "    * 단계적으로 문제를 풀어나가는 과정에서 CNN 기반의 고성능 분류 모델을 학습하는 방법을 이해할 수 있습니다.\n",
        "* (참고) 본 실습 코드에서는 빠른 결과 도출을 위해 30~50 epoch 정도만 학습합니다.\n",
        "    * 풍경 데이터셋에 대하여 완전히 학습시키기 위해서는 100 epoch 이상의 학습이 필요합니다."
      ]
    },
    {
      "cell_type": "markdown",
      "metadata": {
        "id": "8hWAl2GSYpot"
      },
      "source": [
        "#### <b>(알아보기) 지난 프로젝트 Review</b>\n",
        "\n",
        "* 지난 프로젝트에서는 Scene Classification 데이터셋에 대하여 간단한 기계학습 모델을 학습했습니다.\n",
        "    1. 선형 분류 모델(Linear Models for Classification)\n",
        "    2. KNN (K-Nearest Neighbors)\n",
        "* 하지만, 두 기법 모두 정확도(accuracy)가 <b>60% 미만</b>으로 낮게 나온다는 <b>한계점</b>이 존재했습니다.\n",
        "* 본 실습에서는 CNN을 이용해 정확도를 <b>최소한 90% 이상으로</b> 높입니다.\n",
        "    * 실제로 현업에서 많이 사용되는 테크닉을 이용해 최대한 정확도를 끌어올려 봅시다."
      ]
    },
    {
      "cell_type": "markdown",
      "metadata": {
        "id": "Pkk1jz2y6Srt"
      },
      "source": [
        "#### <b>Problem 1. 데이터셋 다운로드 및 분석하기</b>\n",
        "\n",
        "* [PyTorch용 Scene Classification 데이터셋 저장소](https://github.com/ndb796/Scene-Classification-Dataset-Split)\n",
        "    * 참고: [원본 Kaggle 데이터셋 링크](https://www.kaggle.com/nitishabharathi/scene-classification)\n",
        "    * 본 데이터셋은 <b>저작권이 없는(No Copyright)</b> [CC0: Public Domain](https://creativecommons.org/publicdomain/zero/1.0/) 라이센스를 따라므로, 자유롭게 변형할 수 있습니다.\n",
        "* PyTorch에서 곧바로 불러와 사용할 수 있도록 구성된 데이터셋입니다.\n",
        "* 다음의 명령어를 이용해 데이터셋을 다운로드할 수 있습니다.\n",
        "\n",
        "<pre>\n",
        "# 깃허브에서 데이터셋 다운로드하기\n",
        "!git clone https://github.com/ndb796/Scene-Classification-Dataset-Split \n",
        "# 폴더 안으로 이동\n",
        "%cd Scene-Classification-Dataset-Split \n",
        "</pre>"
      ]
    },
    {
      "cell_type": "code",
      "metadata": {
        "id": "tJYQl8e36HNE",
        "colab": {
          "base_uri": "https://localhost:8080/"
        },
        "outputId": "05daf808-136e-4226-9a6c-4bf7baabf785"
      },
      "source": [
        "# 깃허브에서 데이터셋 다운로드하기\n",
        "!git clone https://github.com/ndb796/Scene-Classification-Dataset-Split \n",
        "# 폴더 안으로 이동\n",
        "%cd Scene-Classification-Dataset-Split "
      ],
      "execution_count": 1,
      "outputs": [
        {
          "output_type": "stream",
          "name": "stdout",
          "text": [
            "Cloning into 'Scene-Classification-Dataset-Split'...\n",
            "remote: Enumerating objects: 17038, done.\u001b[K\n",
            "remote: Total 17038 (delta 0), reused 0 (delta 0), pack-reused 17038\u001b[K\n",
            "Receiving objects: 100% (17038/17038), 136.02 MiB | 43.05 MiB/s, done.\n",
            "/content/Scene-Classification-Dataset-Split\n"
          ]
        }
      ]
    },
    {
      "cell_type": "markdown",
      "metadata": {
        "id": "wa4EXMQQ6m91"
      },
      "source": [
        "#### <b>(알아보기) 데이터셋 설명</b>\n",
        "\n",
        "* 본 PyTorch용 장면(scene) 데이터셋은 17,034개의 다양한 <b>자연 경치(scene)</b> 이미지로 구성되어 있습니다.\n",
        "* 총 6개의 클래스(class)로 구성됩니다.\n",
        "\n",
        "<pre>\n",
        "클래스 0. 빌딩(buildings)\n",
        "클래스 1. 숲(forests)\n",
        "클래스 2. 빙하(glacier)\n",
        "클래스 3. 산(mountains)\n",
        "클래스 4. 바다(sea)\n",
        "클래스 5. 거리(street)\n",
        "</pre>\n",
        "\n",
        "* 각 이미지는 공통적으로 64 X 64 크기를 가집니다.\n",
        "* 데이터셋 폴더 구성은 다음과 같습니다.\n",
        "\n",
        "<pre>\n",
        "Dataset/\n",
        "    train/\n",
        "        buildings/\n",
        "        forests/\n",
        "        glacier/\n",
        "        mountains/\n",
        "        sea/\n",
        "        streat/\n",
        "    val/\n",
        "        buildings/\n",
        "        forests/\n",
        "        glacier/\n",
        "        mountains/\n",
        "        sea/\n",
        "        streat/\n",
        "</pre>"
      ]
    },
    {
      "cell_type": "markdown",
      "metadata": {
        "id": "z7lYAuF57utz"
      },
      "source": [
        "#### <b>(알아보기) 클래스별 학습 이미지 개수 출력하기</b>\n",
        "\n",
        "* 클래스별 데이터의 개수를 계산합니다.\n",
        "    * os 라이브러리의 os.listdir()를 이용하여 이미지 폴더에 존재하는 파일 이름 목록을 얻을 수 있습니다.\n",
        "    * 클래스의 개수는 6개입니다.\n",
        "* 총 학습 데이터의 개수는 13,627개입니다.\n",
        "\n",
        "<pre>\n",
        "클래스 0. 빌딩(buildings): 2,105개\n",
        "클래스 1. 숲(forests): 2,205개\n",
        "클래스 2. 빙하(glacier): 2,363개\n",
        "클래스 3. 산(mountains): 2,438개\n",
        "클래스 4. 바다(sea): 2,224개\n",
        "클래스 5. 거리(street): 2,292개\n",
        "</pre>\n",
        "\n",
        "* 총 검증 데이터의 개수는 3,407개입니다.\n",
        "\n",
        "<pre>\n",
        "클래스 0. 빌딩(buildings): 523개\n",
        "클래스 1. 숲(forests): 540개\n",
        "클래스 2. 빙하(glacier): 594개\n",
        "클래스 3. 산(mountains): 599개\n",
        "클래스 4. 바다(sea): 560개\n",
        "클래스 5. 거리(street): 591개\n",
        "</pre>"
      ]
    },
    {
      "cell_type": "code",
      "metadata": {
        "colab": {
          "base_uri": "https://localhost:8080/"
        },
        "id": "sa4IZfuk6lBQ",
        "outputId": "8b56172a-44ca-4215-cf94-cb320dd135b8"
      },
      "source": [
        "import os\n",
        "\n",
        "\n",
        "classes = ['buildings', 'forests', 'glacier', 'mountains', 'sea', 'street']\n",
        "train_path = 'train/'\n",
        "val_path = 'val/'\n",
        "\n",
        "print(\"[ 학습 데이터셋 ]\")\n",
        "for i in range(6):\n",
        "    print(f'클래스 {i}의 개수: {len(os.listdir(train_path + classes[i]))}')\n",
        "\n",
        "print(\"[ 검증 데이터셋 ]\")\n",
        "for i in range(6):\n",
        "    print(f'클래스 {i}의 개수: {len(os.listdir(val_path + classes[i]))}')"
      ],
      "execution_count": 2,
      "outputs": [
        {
          "output_type": "stream",
          "name": "stdout",
          "text": [
            "[ 학습 데이터셋 ]\n",
            "클래스 0의 개수: 2105\n",
            "클래스 1의 개수: 2205\n",
            "클래스 2의 개수: 2363\n",
            "클래스 3의 개수: 2438\n",
            "클래스 4의 개수: 2224\n",
            "클래스 5의 개수: 2292\n",
            "[ 검증 데이터셋 ]\n",
            "클래스 0의 개수: 523\n",
            "클래스 1의 개수: 540\n",
            "클래스 2의 개수: 594\n",
            "클래스 3의 개수: 599\n",
            "클래스 4의 개수: 560\n",
            "클래스 5의 개수: 591\n"
          ]
        }
      ]
    },
    {
      "cell_type": "markdown",
      "metadata": {
        "id": "2Henf6KBAzqP"
      },
      "source": [
        "#### <b>(알아보기) 데이터셋 불러오기</b>\n",
        "\n",
        "* PyTorch의 <b>ImageFolder 라이브러리</b>를 이용하여 <b>자신만의 데이터셋</b>을 불러올 수 있습니다.\n",
        "* ImageFolder 라이브러리는 다음과 같이 <b>계층적인 폴더 구조</b>에서 데이터셋을 불러올 때 사용할 수 있습니다.\n",
        "    * 각 클래스명(class name)으로 된 폴더에 여러 장의 이미지가 들어가 있는 구조입니다.\n",
        "\n",
        "<pre>\n",
        "dataset/\n",
        "    class 0/\n",
        "        0.jpg\n",
        "        1.jpg\n",
        "        ...\n",
        "    class 1/\n",
        "        0.jpg\n",
        "        1.jpg\n",
        "        ...\n",
        "    ...\n",
        "    class 9/\n",
        "        0.jpg\n",
        "        1.jpg\n",
        "        ...\n",
        "</pre>\n",
        "\n",
        "* 기본적인 <b>데이터 증진(data augmentation)</b> 기법을 사용합니다.\n",
        "    * [RandomResizedCrop()](https://pytorch.org/vision/stable/transforms.html): 학습 시기에 랜덤으로 이미지의 일부를 잘라내어 특정 크기로 변형합니다.\n",
        "    * [RandomHorizontalFlip()](https://pytorch.org/vision/stable/transforms.html): 학습 시기에 랜덤으로 이미지를 좌우 반전합니다.\n",
        "* <b>정규화(normalization)를</b> 진행합니다.\n",
        "    * 일반적으로 많이 사용되는 ImageNet 데이터셋의 설정을 이용합니다."
      ]
    },
    {
      "cell_type": "code",
      "metadata": {
        "id": "wPnGRPmB8PQ7",
        "colab": {
          "base_uri": "https://localhost:8080/"
        },
        "outputId": "cb2028ad-2971-4626-ff28-787e09dc293a"
      },
      "source": [
        "import torch\n",
        "from torchvision import datasets, transforms\n",
        "\n",
        "\n",
        "device = torch.device(\"cuda:0\" if torch.cuda.is_available() else \"cpu\") # device object\n",
        "\n",
        "transforms_train = transforms.Compose([\n",
        "    transforms.RandomResizedCrop((64, 64)),\n",
        "    transforms.RandomHorizontalFlip(),\n",
        "    transforms.ToTensor(),\n",
        "    transforms.Normalize([0.485, 0.456, 0.406], [0.229, 0.224, 0.225]) # 정규화(normalization)\n",
        "])\n",
        "\n",
        "transforms_val = transforms.Compose([\n",
        "    transforms.Resize((64, 64)),\n",
        "    transforms.ToTensor(),\n",
        "    transforms.Normalize([0.485, 0.456, 0.406], [0.229, 0.224, 0.225])\n",
        "])\n",
        "\n",
        "train_dataset = datasets.ImageFolder(train_path, transforms_train)\n",
        "val_dataset = datasets.ImageFolder(val_path, transforms_val)\n",
        "\n",
        "train_dataloader = torch.utils.data.DataLoader(train_dataset, batch_size=32, shuffle=True, num_workers=2)\n",
        "val_dataloader = torch.utils.data.DataLoader(val_dataset, batch_size=32, shuffle=True, num_workers=2)\n",
        "\n",
        "print('Training dataset size:', len(train_dataset))\n",
        "print('Validation dataset size:', len(val_dataset))\n",
        "\n",
        "class_names = train_dataset.classes\n",
        "print('Class names:', class_names)"
      ],
      "execution_count": 3,
      "outputs": [
        {
          "output_type": "stream",
          "name": "stdout",
          "text": [
            "Training dataset size: 13627\n",
            "Validation dataset size: 3407\n",
            "Class names: ['buildings', 'forests', 'glacier', 'mountains', 'sea', 'street']\n"
          ]
        }
      ]
    },
    {
      "cell_type": "markdown",
      "metadata": {
        "id": "hj5LhQ5TC-w7"
      },
      "source": [
        "#### <b>(알아보기) 이미지 시각화하기</b>\n",
        "\n",
        "* PyTorch로 불러온 데이터(torch.Tensor 객체)를 시각화해 봅시다.\n",
        "* Google Colab에 출력하기 위해서 NumPy 형태로 변형한 뒤에 Matplotlib을 이용합니다.\n",
        "    * torch.Tensor는 (Channel, Height, Width) 형식을 가집니다.\n",
        "    * numpy 객체는 (Height, Width, Channel) 형식을 가집니다."
      ]
    },
    {
      "cell_type": "code",
      "metadata": {
        "colab": {
          "base_uri": "https://localhost:8080/",
          "height": 215
        },
        "id": "LaDkgdTBBWg3",
        "outputId": "bfab9e81-23f1-48de-d564-5fb0a13b33e7"
      },
      "source": [
        "import torchvision\n",
        "import numpy as np\n",
        "import matplotlib.pyplot as plt\n",
        "\n",
        "\n",
        "# 화면에 출력되는 이미지 크기를 적절하게 조절하기\n",
        "plt.rcParams['figure.figsize'] = [12, 8]\n",
        "plt.rcParams['figure.dpi'] = 60\n",
        "plt.rcParams.update({'font.size': 20})\n",
        "\n",
        "\n",
        "def imshow(image, title):\n",
        "    # torch.Tensor => numpy 변환하기\n",
        "    image = image.numpy().transpose((1, 2, 0))\n",
        "    # 이미지 정규화(normalization) 해제하기\n",
        "    mean = np.array([0.485, 0.456, 0.406])\n",
        "    std = np.array([0.229, 0.224, 0.225])\n",
        "    image = std * image + mean\n",
        "    image = np.clip(image, 0, 1)\n",
        "    # 화면에 이미지 출력하기\n",
        "    plt.imshow(image)\n",
        "    plt.title(title)\n",
        "    plt.show()\n",
        "\n",
        "\n",
        "# 학습 데이터셋에서 하나의 배치를 불러와 보기\n",
        "iterator = iter(train_dataloader)\n",
        "\n",
        "# 현재 배치에 포함된 이미지를 출력하기\n",
        "inputs, classes = next(iterator)\n",
        "out = torchvision.utils.make_grid(inputs[:4])\n",
        "imshow(out, title=[class_names[x] for x in classes[:4]])"
      ],
      "execution_count": 4,
      "outputs": [
        {
          "output_type": "display_data",
          "data": {
            "text/plain": [
              "<Figure size 720x480 with 1 Axes>"
            ],
            "image/png": "[encoded data removed]"
          },
          "metadata": {
            "needs_background": "light"
          }
        }
      ]
    },
    {
      "cell_type": "markdown",
      "metadata": {
        "id": "ravTv4e-D7YZ"
      },
      "source": [
        "#### <b>Problem 2. Convolution 연산 이해하기</b>\n",
        "\n",
        "* Convolution 연산의 동작 원리를 이해할 필요가 있습니다.\n",
        "* <b>[그림 예시]</b> 아래 그림에서는 stride가 1이고, padding이 0일 때의 Convolution 연산 예시를 보입니다."
      ]
    },
    {
      "cell_type": "markdown",
      "metadata": {
        "id": "z8l4Y5_BEnBH"
      },
      "source": [
        "![image.png](data:image/png;base64,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)"
      ]
    },
    {
      "cell_type": "markdown",
      "metadata": {
        "id": "KGlu0nBvGEnc"
      },
      "source": [
        "<hr>\n",
        "\n",
        "* 입력 데이터의 높이: $height$\n",
        "* 입력 데이터의 너비: $width$\n",
        "* 필터의 높이: $filter\\_height$\n",
        "* 필터의 너비: $filter\\_width$\n",
        "* 스트라이드(stride): $stride$\n",
        "* 패딩 크기: $padding$\n",
        "\n",
        "<hr>\n",
        "\n",
        "* Convolution 연산 이후의 출력 차원은 다음과 같은 공식으로 계산할 수 있습니다. (나누기할 때 소수점 아래 버림)\n",
        "    * 출력 높이(output height) = $(height + 2 * padding - filter\\\\_height) / stride + 1$\n",
        "    * 출력 너비(output width) = $(width + 2 * padding - filter\\\\_width) / stride + 1$\n",
        "\n",
        "* <b>[문제]</b> 다음의 각 경우에 대하여 Convolution 연산을 수행한 뒤의 출력 차원을 쓰세요.\n",
        "    1. $height=32$, $width=32$, $filter\\\\_height=5$, $filter\\\\_width=5$, $stride=2$, $padding=2$일 때 → {답을 쓰세요.}\n",
        "    2. $height=64$, $width=64$, $filter\\\\_height=3$, $filter\\\\_width=3$, $stride=1$, $padding=1$일 때 → {답을 쓰세요.}\n",
        "    3. $height=16$, $width=16$, $filter\\\\_height=4$, $filter\\\\_width=4$, $stride=2$, $padding=1$일 때 → {답을 쓰세요.}\n",
        "    4. $height=60$, $width=45$, $filter\\\\_height=8$, $filter\\\\_width=5$, $stride=3$, $padding=1$일 때 → {답을 쓰세요.}\n",
        "\n",
        "* (Hint) 다음과 같은 Python 코드를 사용하여 간단히 계산할 수 있습니다.\n",
        "\n",
        "<pre>\n",
        "height = 16\n",
        "width = 16\n",
        "filter_height = 4\n",
        "filter_width = 4\n",
        "stride = 2\n",
        "padding = 1\n",
        "\n",
        "output_height = (height + 2 * padding - filter_height) // stride + 1\n",
        "output_width = (width + 2 * padding - filter_width) // stride + 1\n",
        "\n",
        "print('출력 높이:', output_height, '출력 너비:', output_width)\n",
        "</pre>\n",
        "\n",
        "* 실행 결과 예시\n",
        "\n",
        "<pre>\n",
        "출력 높이: 8 출력 너비: 8\n",
        "</pre>"
      ]
    },
    {
      "cell_type": "code",
      "metadata": {
        "id": "n8QWxdf1cD0C"
      },
      "source": [],
      "execution_count": 4,
      "outputs": []
    },
    {
      "cell_type": "markdown",
      "metadata": {
        "id": "BVSni_zzItHO"
      },
      "source": [
        "#### <b>(알아보기) Lenet 아키텍처 이해하기</b>\n",
        "\n",
        "* 기본적인 LeNet 아키텍처를 이해할 수 있습니다.\n",
        "    * Convolutional Neural Network를 최초로(1998년) 적용한 간단한 아키텍처입니다.\n",
        "    * Convolution 연산과 Pooling 연산이 사용됩니다.\n",
        "* <b>아래의 표</b>와 같은 아키텍처를 PyTorch로 구현한 것을 확인해 봅시다.\n",
        "    * 원본 논문과 완전히 동일하지는 않지만, 핵심 아이디어를 잘 표현한 아키텍처입니다.\n",
        "    * PyTorch에서는 모델에 별도로 Softmax 레이어를 두지 않고, 학습할 때 nn.CrossEntropyLoss()를 사용하는 것이 일반적입니다."
      ]
    },
    {
      "cell_type": "markdown",
      "metadata": {
        "id": "DRgvR2IcBocO"
      },
      "source": [
        "Layer | Type | Specification\n",
        ":-: | :-: | ---\n",
        "1 | Input | image size: 3 X 64 X 64\n",
        "2 | Convolution | # of kernel: 20, kernel size: 5 X 5, stride: 1, zero padding: 0\n",
        "3 | Pooling | max pooling, kernel size: 2 X 2, stride: 2\n",
        "4 | Convolution | # of kernel: 50, kernel size: 5 X 5, stride: 1, zero padding: 0\n",
        "5 | Pooling | max pooling, kernel size: 2 X 2, stride: 2\n",
        "6 | Fully Connected | # of neuron: 500\n",
        "7 | Activation | ReLU\n",
        "8 | Fully Connected | # of neuron: 6\n",
        "9 | Softmax | 6 classes\n",
        "\n"
      ]
    },
    {
      "cell_type": "code",
      "metadata": {
        "id": "G4I95oAMBlSO"
      },
      "source": [
        "import torch.nn as nn\n",
        "import torch.nn.functional as F\n",
        "\n",
        "\n",
        "class LeNet(nn.Module):\n",
        "    def __init__(self):\n",
        "        super(LeNet, self).__init__()\n",
        "        # → 차원(dimension): (3 x 64 x 64)\n",
        "        self.conv1 = nn.Conv2d(in_channels=3, out_channels=20, kernel_size=5, stride=1, padding=0)\n",
        "        # → 차원(dimension): (20 x 60 x 60)\n",
        "        self.pool1 = nn.MaxPool2d(kernel_size=2, stride=2)\n",
        "        # → 차원(dimension): (20 x 30 x 30)\n",
        "        self.conv2 = nn.Conv2d(in_channels=20, out_channels=50, kernel_size=5, stride=1, padding=0)\n",
        "        # → 차원(dimension): (50 x 26 x 26)\n",
        "        self.pool2 = nn.MaxPool2d(kernel_size=2, stride=2)\n",
        "        # → 차원(dimension): (50 x 13 x 13)\n",
        "        self.fc1 = nn.Linear(50 * 13 * 13, 500)\n",
        "        # → 차원(dimension): (500)\n",
        "        self.fc2 = nn.Linear(500, 6)\n",
        "        # → 차원(dimension): (6)\n",
        "\n",
        "    def forward(self, x):\n",
        "        x = self.pool1(self.conv1(x))\n",
        "        x = self.pool2(self.conv2(x))\n",
        "        x = torch.flatten(x, 1) # 배치(batch)를 제외한 모든 차원 flatten하기\n",
        "        x = F.relu(self.fc1(x))\n",
        "        x = self.fc2(x)\n",
        "        return x"
      ],
      "execution_count": 5,
      "outputs": []
    },
    {
      "cell_type": "markdown",
      "metadata": {
        "id": "U1lpgyhuJc8s"
      },
      "source": [
        "#### <b>(알아보기) 학습 및 평가 함수 이해하기</b>\n",
        "\n",
        "* 별도의 학습(train) 함수와 평가(validate) 함수를 작성합니다."
      ]
    },
    {
      "cell_type": "code",
      "metadata": {
        "id": "uod7CJkzCM-0"
      },
      "source": [
        "def train(net, epoch, optimizer, criterion, train_dataloader):\n",
        "    print('[ Train epoch: %d ]' % epoch)\n",
        "    net.train() # 모델을 학습 모드로 설정\n",
        "    train_loss = 0\n",
        "    correct = 0\n",
        "    total = 0\n",
        "    for batch_idx, (inputs, targets) in enumerate(train_dataloader):\n",
        "        inputs, targets = inputs.to(device), targets.to(device)\n",
        "        optimizer.zero_grad() # 기울기(gradient) 초기화\n",
        "\n",
        "        outputs = net(inputs) # 모델 입력하여 결과 계산\n",
        "        loss = criterion(outputs, targets) # 손실(loss) 값 계산\n",
        "        loss.backward() # 역전파를 통해 기울기(gradient) 계산\n",
        "\n",
        "        optimizer.step() # 계산된 기울기를 이용해 모델 가중치 업데이트\n",
        "        train_loss += loss.item()\n",
        "        _, predicted = outputs.max(1)\n",
        "\n",
        "        total += targets.size(0)\n",
        "        correct += predicted.eq(targets).sum().item()\n",
        "\n",
        "    print('Train accuarcy:', 100. * correct / total)\n",
        "    print('Train average loss:', train_loss / total)\n",
        "    return (100. * correct / total, train_loss / total)\n",
        "\n",
        "\n",
        "def validate(net, epoch, val_dataloader):\n",
        "    print('[ Validation epoch: %d ]' % epoch)\n",
        "    net.eval() # 모델을 평가 모드로 설정\n",
        "    val_loss = 0\n",
        "    correct = 0\n",
        "    total = 0\n",
        "    for batch_idx, (inputs, targets) in enumerate(val_dataloader):\n",
        "        inputs, targets = inputs.to(device), targets.to(device)\n",
        "\n",
        "        outputs = net(inputs) # 모델 입력하여 결과 계산\n",
        "        val_loss += criterion(outputs, targets).item()\n",
        "        _, predicted = outputs.max(1)\n",
        "\n",
        "        total += targets.size(0)\n",
        "        correct += predicted.eq(targets).sum().item()\n",
        "\n",
        "    print('Accuarcy:', 100. * correct / total)\n",
        "    print('Average loss:', val_loss / total)\n",
        "    return (100. * correct / total, val_loss / total)"
      ],
      "execution_count": 6,
      "outputs": []
    },
    {
      "cell_type": "markdown",
      "metadata": {
        "id": "YmgzcnzxK4BK"
      },
      "source": [
        "#### <b>(알아보기) LeNet 학습하기</b>\n",
        "\n",
        "* 앞서 정의한 LeNet 네트워크를 학습합니다.\n",
        "* 학습률(learning rate)을 수정해보면서 결과를 확인해 봅시다.\n",
        "    * 만약 학습률이 너무 크다면, 발산하여 손실(loss) 값이 NaN으로 나오며 학습이 안 될 수 있습니다."
      ]
    },
    {
      "cell_type": "code",
      "metadata": {
        "colab": {
          "base_uri": "https://localhost:8080/"
        },
        "id": "x2tcBoW2B2jt",
        "outputId": "6e2326f0-c67f-4ad8-bb72-837bd144d1fd"
      },
      "source": [
        "import time\n",
        "import torch.optim as optim\n",
        "\n",
        "\n",
        "net = LeNet()\n",
        "net = net.to(device)\n",
        "\n",
        "epoch = 30\n",
        "learning_rate = 0.002\n",
        "file_name = \"LeNet.pt\"\n",
        "\n",
        "criterion = nn.CrossEntropyLoss()\n",
        "optimizer = optim.SGD(net.parameters(), lr=learning_rate, momentum=0.9, weight_decay=0.0002)\n",
        "\n",
        "train_result = []\n",
        "val_result = []\n",
        "\n",
        "start_time = time.time() # 시작 시간\n",
        "\n",
        "for i in range(epoch):\n",
        "    train_acc, train_loss = train(net, i, optimizer, criterion, train_dataloader) # 학습(training)\n",
        "    val_acc, val_loss = validate(net, i + 1, val_dataloader) # 검증(validation)\n",
        "\n",
        "    # 학습된 모델 저장하기\n",
        "    state = {\n",
        "        'net': net.state_dict()\n",
        "    }\n",
        "    if not os.path.isdir('checkpoint'):\n",
        "        os.mkdir('checkpoint')\n",
        "    torch.save(state, './checkpoint/' + file_name)\n",
        "    print(f'Model saved! (time elapsed: {time.time() - start_time})')\n",
        "\n",
        "    # 현재 epoch에서의 정확도(accuracy)와 손실(loss) 값 저장하기\n",
        "    train_result.append((train_acc, train_loss))\n",
        "    val_result.append((val_acc, val_loss))"
      ],
      "execution_count": 7,
      "outputs": [
        {
          "output_type": "stream",
          "name": "stdout",
          "text": [
            "[ Train epoch: 0 ]\n",
            "Train accuarcy: 49.98899244147648\n",
            "Train average loss: 0.03992556436506084\n",
            "[ Validation epoch: 1 ]\n",
            "Accuarcy: 59.40710302318755\n",
            "Average loss: 0.03410778473926004\n",
            "Model saved! (time elapsed: 20.53912663459778)\n",
            "[ Train epoch: 1 ]\n",
            "Train accuarcy: 58.567549717472666\n",
            "Train average loss: 0.0337927900809679\n",
            "[ Validation epoch: 2 ]\n",
            "Accuarcy: 66.12855884942765\n",
            "Average loss: 0.028177123983689406\n",
            "Model saved! (time elapsed: 34.02085900306702)\n",
            "[ Train epoch: 2 ]\n",
            "Train accuarcy: 60.90849049680781\n",
            "Train average loss: 0.031919737218052135\n",
            "[ Validation epoch: 3 ]\n",
            "Accuarcy: 70.88347519812152\n",
            "Average loss: 0.025527796771192535\n",
            "Model saved! (time elapsed: 47.45787477493286)\n",
            "[ Train epoch: 3 ]\n",
            "Train accuarcy: 62.96323475453144\n",
            "Train average loss: 0.030629044689400458\n",
            "[ Validation epoch: 4 ]\n",
            "Accuarcy: 70.17904314646316\n",
            "Average loss: 0.02621312649816161\n",
            "Model saved! (time elapsed: 63.598432540893555)\n",
            "[ Train epoch: 4 ]\n",
            "Train accuarcy: 64.15938944742057\n",
            "Train average loss: 0.029710483540527764\n",
            "[ Validation epoch: 5 ]\n",
            "Accuarcy: 70.35515115937775\n",
            "Average loss: 0.02567719890114706\n",
            "Model saved! (time elapsed: 76.76139616966248)\n",
            "[ Train epoch: 5 ]\n",
            "Train accuarcy: 65.61972554487414\n",
            "Train average loss: 0.028898073793761036\n",
            "[ Validation epoch: 6 ]\n",
            "Accuarcy: 74.81655415321397\n",
            "Average loss: 0.02245157573067061\n",
            "Model saved! (time elapsed: 90.03498792648315)\n",
            "[ Train epoch: 6 ]\n",
            "Train accuarcy: 66.5516988331988\n",
            "Train average loss: 0.028265624960668895\n",
            "[ Validation epoch: 7 ]\n",
            "Accuarcy: 72.58585265629586\n",
            "Average loss: 0.02365624143610541\n",
            "Model saved! (time elapsed: 103.29036736488342)\n",
            "[ Train epoch: 7 ]\n",
            "Train accuarcy: 67.14610699346885\n",
            "Train average loss: 0.027751738881473455\n",
            "[ Validation epoch: 8 ]\n",
            "Accuarcy: 72.73260933372468\n",
            "Average loss: 0.02353977874503095\n",
            "Model saved! (time elapsed: 116.79130029678345)\n",
            "[ Train epoch: 8 ]\n",
            "Train accuarcy: 68.26153959051882\n",
            "Train average loss: 0.027220939545828413\n",
            "[ Validation epoch: 9 ]\n",
            "Accuarcy: 77.01790431464632\n",
            "Average loss: 0.02163130292487977\n",
            "Model saved! (time elapsed: 130.2091989517212)\n",
            "[ Train epoch: 9 ]\n",
            "Train accuarcy: 68.57708960152638\n",
            "Train average loss: 0.026624839890420485\n",
            "[ Validation epoch: 10 ]\n",
            "Accuarcy: 76.22541825653067\n",
            "Average loss: 0.02094362913635003\n",
            "Model saved! (time elapsed: 143.6130874156952)\n",
            "[ Train epoch: 10 ]\n",
            "Train accuarcy: 68.51104425038527\n",
            "Train average loss: 0.026691732067980298\n",
            "[ Validation epoch: 11 ]\n",
            "Accuarcy: 76.72439095978866\n",
            "Average loss: 0.02085027228991657\n",
            "Model saved! (time elapsed: 156.81723165512085)\n",
            "[ Train epoch: 11 ]\n",
            "Train accuarcy: 69.51640126220005\n",
            "Train average loss: 0.026181923909644664\n",
            "[ Validation epoch: 12 ]\n",
            "Accuarcy: 76.66568828881714\n",
            "Average loss: 0.02048525509856683\n",
            "Model saved! (time elapsed: 170.03253149986267)\n",
            "[ Train epoch: 12 ]\n",
            "Train accuarcy: 70.2795919864974\n",
            "Train average loss: 0.02551989222452927\n",
            "[ Validation epoch: 13 ]\n",
            "Accuarcy: 76.63633695333138\n",
            "Average loss: 0.02059742180280123\n",
            "Model saved! (time elapsed: 183.29403376579285)\n",
            "[ Train epoch: 13 ]\n",
            "Train accuarcy: 69.57510824099215\n",
            "Train average loss: 0.0256431306800288\n",
            "[ Validation epoch: 14 ]\n",
            "Accuarcy: 77.34076900498972\n",
            "Average loss: 0.020039819554915902\n",
            "Model saved! (time elapsed: 196.71684193611145)\n",
            "[ Train epoch: 14 ]\n",
            "Train accuarcy: 70.44837455052469\n",
            "Train average loss: 0.02503748711026615\n",
            "[ Validation epoch: 15 ]\n",
            "Accuarcy: 77.81039037276196\n",
            "Average loss: 0.020537338252112354\n",
            "Model saved! (time elapsed: 210.18425607681274)\n",
            "[ Train epoch: 15 ]\n",
            "Train accuarcy: 70.38232919938358\n",
            "Train average loss: 0.025028264173943833\n",
            "[ Validation epoch: 16 ]\n",
            "Accuarcy: 75.93190490167302\n",
            "Average loss: 0.021489065292471486\n",
            "Model saved! (time elapsed: 223.8666250705719)\n",
            "[ Train epoch: 16 ]\n",
            "Train accuarcy: 70.64651060394804\n",
            "Train average loss: 0.02495790755459189\n",
            "[ Validation epoch: 17 ]\n",
            "Accuarcy: 76.43087760493103\n",
            "Average loss: 0.02090897091609976\n",
            "Model saved! (time elapsed: 236.75374841690063)\n",
            "[ Train epoch: 17 ]\n",
            "Train accuarcy: 71.82065017979012\n",
            "Train average loss: 0.023950651431281385\n",
            "[ Validation epoch: 18 ]\n",
            "Accuarcy: 77.16466099207514\n",
            "Average loss: 0.02150739996636897\n",
            "Model saved! (time elapsed: 249.90483975410461)\n",
            "[ Train epoch: 18 ]\n",
            "Train accuarcy: 71.76194320099802\n",
            "Train average loss: 0.02421362044928997\n",
            "[ Validation epoch: 19 ]\n",
            "Accuarcy: 76.57763428235985\n",
            "Average loss: 0.02144399029892982\n",
            "Model saved! (time elapsed: 262.77866411209106)\n",
            "[ Train epoch: 19 ]\n",
            "Train accuarcy: 71.2996257430102\n",
            "Train average loss: 0.02439369876578766\n",
            "[ Validation epoch: 20 ]\n",
            "Accuarcy: 76.98855297916054\n",
            "Average loss: 0.020768052489134024\n",
            "Model saved! (time elapsed: 275.63734889030457)\n",
            "[ Train epoch: 20 ]\n",
            "Train accuarcy: 71.87201878623321\n",
            "Train average loss: 0.024155307585489567\n",
            "[ Validation epoch: 21 ]\n",
            "Accuarcy: 78.98444379219255\n",
            "Average loss: 0.019446125102595985\n",
            "Model saved! (time elapsed: 288.3780474662781)\n",
            "[ Train epoch: 21 ]\n",
            "Train accuarcy: 72.52513392529536\n",
            "Train average loss: 0.023714541295413324\n",
            "[ Validation epoch: 22 ]\n",
            "Accuarcy: 79.89433519225125\n",
            "Average loss: 0.01914133884216076\n",
            "Model saved! (time elapsed: 301.0293095111847)\n",
            "[ Train epoch: 22 ]\n",
            "Train accuarcy: 72.14353856314669\n",
            "Train average loss: 0.02385572468122593\n",
            "[ Validation epoch: 23 ]\n",
            "Accuarcy: 79.07249779864983\n",
            "Average loss: 0.019090904670269707\n",
            "Model saved! (time elapsed: 313.68278908729553)\n",
            "[ Train epoch: 23 ]\n",
            "Train accuarcy: 72.30498275482498\n",
            "Train average loss: 0.023509288296500418\n",
            "[ Validation epoch: 24 ]\n",
            "Accuarcy: 79.36601115350749\n",
            "Average loss: 0.019307794443561004\n",
            "Model saved! (time elapsed: 326.4214973449707)\n",
            "[ Train epoch: 24 ]\n",
            "Train accuarcy: 72.92874440449108\n",
            "Train average loss: 0.023223485170793243\n",
            "[ Validation epoch: 25 ]\n",
            "Accuarcy: 79.80628118579395\n",
            "Average loss: 0.018471818324369806\n",
            "Model saved! (time elapsed: 339.014408826828)\n",
            "[ Train epoch: 25 ]\n",
            "Train accuarcy: 73.24429441549864\n",
            "Train average loss: 0.02299803426953836\n",
            "[ Validation epoch: 26 ]\n",
            "Accuarcy: 79.71822717933667\n",
            "Average loss: 0.018883743868183454\n",
            "Model saved! (time elapsed: 351.7160325050354)\n",
            "[ Train epoch: 26 ]\n",
            "Train accuarcy: 73.1635723196595\n",
            "Train average loss: 0.02287514013835372\n",
            "[ Validation epoch: 27 ]\n",
            "Accuarcy: 78.83768711476372\n",
            "Average loss: 0.01881581344998474\n",
            "Model saved! (time elapsed: 364.4646942615509)\n",
            "[ Train epoch: 27 ]\n",
            "Train accuarcy: 73.50847582006311\n",
            "Train average loss: 0.022704046553925775\n",
            "[ Validation epoch: 28 ]\n",
            "Accuarcy: 77.3701203404755\n",
            "Average loss: 0.02119505481090859\n",
            "Model saved! (time elapsed: 378.2845640182495)\n",
            "[ Train epoch: 28 ]\n",
            "Train accuarcy: 73.99280839509797\n",
            "Train average loss: 0.02231463706614975\n",
            "[ Validation epoch: 29 ]\n",
            "Accuarcy: 79.45406515996478\n",
            "Average loss: 0.019381223473340353\n",
            "Model saved! (time elapsed: 391.18831038475037)\n",
            "[ Train epoch: 29 ]\n",
            "Train accuarcy: 73.23695604314963\n",
            "Train average loss: 0.0229750209651795\n",
            "[ Validation epoch: 30 ]\n",
            "Accuarcy: 79.13120046962136\n",
            "Average loss: 0.019440574789628066\n",
            "Model saved! (time elapsed: 403.95957946777344)\n"
          ]
        }
      ]
    },
    {
      "cell_type": "code",
      "metadata": {
        "id": "o1oODgMuCTF9",
        "colab": {
          "base_uri": "https://localhost:8080/",
          "height": 473
        },
        "outputId": "da83d7c0-7324-486f-bdba-05b775404422"
      },
      "source": [
        "# 정확도(accuracy) 커브 시각화\n",
        "plt.subplot(211)\n",
        "plt.plot([i for i in range(epoch)], [i[0] for i in train_result])\n",
        "plt.plot([i for i in range(epoch)], [i[0] for i in val_result])\n",
        "plt.title(\"Accuracy Curve\")\n",
        "plt.xlabel(\"Epoch\")\n",
        "plt.ylabel(\"Accuracy\")\n",
        "plt.legend([\"train\", \"val\"])\n",
        "\n",
        "# 손실(loss) 커브 시각화\n",
        "plt.subplot(212)\n",
        "plt.plot([i for i in range(epoch)], [i[1] for i in train_result])\n",
        "plt.plot([i for i in range(epoch)], [i[1] for i in val_result])\n",
        "plt.title(\"Loss Curve\")\n",
        "plt.xlabel(\"Epoch\")\n",
        "plt.ylabel(\"Loss\")\n",
        "plt.legend([\"train\", \"val\"])\n",
        "\n",
        "plt.tight_layout()\n",
        "plt.show()"
      ],
      "execution_count": 8,
      "outputs": [
        {
          "output_type": "display_data",
          "data": {
            "text/plain": [
              "<Figure size 720x480 with 2 Axes>"
            ],
            "image/png": "[encoded data removed]"
          },
          "metadata": {
            "needs_background": "light"
          }
        }
      ]
    },
    {
      "cell_type": "markdown",
      "metadata": {
        "id": "K68AXzKlOoe9"
      },
      "source": [
        "#### <b>(알아보기) 혼동 행렬 시각화하기</b>\n",
        "\n",
        "* 참고: [Seaborn.heatmap 공식 문서](https://seaborn.pydata.org/generated/seaborn.heatmap.html) \n",
        "* 각 클래스에 대하여 정확히 분류하는지 확인하기 위해 <b>혼동 행렬(confusion matrix)</b>을 생성할 수 있습니다."
      ]
    },
    {
      "cell_type": "code",
      "metadata": {
        "id": "wSim08kLOvB3"
      },
      "source": [
        "# 네트워크에 데이터셋을 입력하여 혼동 행렬(confusion matrix)을 계산하는 함수\n",
        "def get_confusion_matrix(net, num_classes, data_loader):\n",
        "    net.eval() # 모델을 평가 모드로 설정\n",
        "    confusion_matrix = torch.zeros(num_classes, num_classes, dtype=torch.int32)\n",
        "\n",
        "    for batch_idx, (inputs, targets) in enumerate(data_loader):\n",
        "        inputs, targets = inputs.to(device), targets.to(device)\n",
        "\n",
        "        outputs = net(inputs)\n",
        "        _, predicted = outputs.max(1)\n",
        "\n",
        "        for t, p in zip(targets.view(-1), predicted.view(-1)):\n",
        "            confusion_matrix[t.long(), p.long()] += 1\n",
        "\n",
        "    return confusion_matrix"
      ],
      "execution_count": 9,
      "outputs": []
    },
    {
      "cell_type": "code",
      "metadata": {
        "id": "w2L35EoMOn0S",
        "colab": {
          "base_uri": "https://localhost:8080/",
          "height": 522
        },
        "outputId": "bf8f495d-2b3b-4235-dd2c-e12c011da265"
      },
      "source": [
        "import pandas as pd\n",
        "import seaborn as sns\n",
        "\n",
        "\n",
        "net = LeNet()\n",
        "net = net.to(device)\n",
        "\n",
        "file_name = \"./checkpoint/LeNet.pt\"\n",
        "checkpoint = torch.load(file_name)\n",
        "net.load_state_dict(checkpoint['net'])\n",
        "\n",
        "# 평가 데이터셋을 이용해 혼동 행렬(confusion matrix) 계산하기\n",
        "confusion_matrix = get_confusion_matrix(net, 6, val_dataloader)\n",
        "print(\"[ 각 클래스당 데이터 개수 ]\")\n",
        "print(confusion_matrix.sum(1))\n",
        "\n",
        "print(\"[ 혼동 행렬(confusion matrix) 시각화 ]\")\n",
        "res = pd.DataFrame(confusion_matrix.numpy(), index = [i for i in range(6)], columns = [i for i in range(6)])\n",
        "res.index.name = 'True label'\n",
        "res.columns.name = 'Predicted label'\n",
        "plt.figure(figsize = (10, 7))\n",
        "sns.heatmap(res, annot=True, fmt=\"d\", cmap='Blues')\n",
        "plt.show()\n",
        "\n",
        "print(\"[ 각 클래스에 따른 정확도 ]\")\n",
        "# (각 클래스마다 정답 개수 / 각 클래스마다 데이터의 개수)\n",
        "print(confusion_matrix.diag() / confusion_matrix.sum(1))\n",
        "\n",
        "print(\"[ 전체 평균 정확도 ]\")\n",
        "print(confusion_matrix.diag().sum() / confusion_matrix.sum())"
      ],
      "execution_count": 10,
      "outputs": [
        {
          "output_type": "stream",
          "name": "stdout",
          "text": [
            "[ 각 클래스당 데이터 개수 ]\n",
            "tensor([523, 540, 594, 599, 560, 591])\n",
            "[ 혼동 행렬(confusion matrix) 시각화 ]\n"
          ]
        },
        {
          "output_type": "display_data",
          "data": {
            "text/plain": [
              "<Figure size 600x420 with 2 Axes>"
            ],
            "image/png": "[encoded data removed]"
          },
          "metadata": {
            "needs_background": "light"
          }
        },
        {
          "output_type": "stream",
          "name": "stdout",
          "text": [
            "[ 각 클래스에 따른 정확도 ]\n",
            "tensor([0.6902, 0.9130, 0.7912, 0.7279, 0.7661, 0.8579])\n",
            "[ 전체 평균 정확도 ]\n",
            "tensor(0.7913)\n"
          ]
        }
      ]
    },
    {
      "cell_type": "markdown",
      "metadata": {
        "id": "dR_pHgvJMwq0"
      },
      "source": [
        "#### <b>Problem 3. CustomLeNet 아키텍처 작성하기</b>\n",
        "\n",
        "* 다음과 같이 LeNet 아키텍처를 변경하여 CustomLeNet을 만들어 봅시다.\n",
        "    * 커널 크기와 커널의 개수를 증가시켰습니다. (파라미터 수 증가)\n",
        "    * Fully Connected 레이어의 차원을 증가시켰습니다. (파라미터 수 증가)\n",
        "\n",
        "Layer | Type | Specification\n",
        ":-: | :-: | ---\n",
        "1 | Input | image size: 3 X 64 X 64\n",
        "2 | Convolution | # of kernel: 128, kernel size: 8 X 8, stride: 1, zero padding: 0\n",
        "3 | Pooling | max pooling, kernel size: 2 X 2, stride: 2\n",
        "4 | Convolution | # of kernel: 256, kernel size: 8 X 8, stride: 1, zero padding: 0\n",
        "5 | Pooling | max pooling, kernel size: 2 X 2, stride: 2\n",
        "6 | Convolution | # of kernel: 512, kernel size: 4 X 4, stride: 1, zero padding: 0\n",
        "7 | Pooling | max pooling, kernel size: 2 X 2, stride: 2\n",
        "8 | Fully Connected | # of neuron: 4096\n",
        "9 | Activation | ReLU\n",
        "10 | Fully Connected | # of neuron: 6\n",
        "11 | Softmax | 6 classes\n"
      ]
    },
    {
      "cell_type": "code",
      "metadata": {
        "id": "dW2OTz4QMl7d"
      },
      "source": [
        "class CustomLeNet(nn.Module):\n",
        "    def __init__(self):\n",
        "        super(CustomLeNet, self).__init__()\n",
        "        # 이 부분에 소스코드를 작성하세요.\n",
        "\n",
        "    def forward(self, x):\n",
        "        # 이 부분에 소스코드를 작성하세요.\n",
        "        return x"
      ],
      "execution_count": 11,
      "outputs": []
    },
    {
      "cell_type": "markdown",
      "metadata": {
        "id": "fOQYsvsePpDD"
      },
      "source": [
        "#### <b>(알아보기) CustomLeNet 평가하기</b>\n",
        "\n",
        "* 새롭게 작성한 CustomLeNet과 앞선 LeNet의 성능을 비교합니다.\n",
        "    * 파라미터가 증가한 만큼 성능 향상이 있는지 확인해 봅시다.\n",
        "* 아래 코드를 실행하여 학습 및 성능 평가를 진행할 수 있습니다."
      ]
    },
    {
      "cell_type": "code",
      "metadata": {
        "id": "oPf3HcIHPfeN",
        "colab": {
          "base_uri": "https://localhost:8080/",
          "height": 400
        },
        "outputId": "20f332b2-6050-43b2-d7d5-ddaa79008d9e"
      },
      "source": [
        "import time\n",
        "import torch.optim as optim\n",
        "\n",
        "\n",
        "net = CustomLeNet()\n",
        "net = net.to(device)\n",
        "\n",
        "epoch = 30\n",
        "learning_rate = 0.002\n",
        "file_name = \"CustomLeNet.pt\"\n",
        "\n",
        "criterion = nn.CrossEntropyLoss()\n",
        "optimizer = optim.SGD(net.parameters(), lr=learning_rate, momentum=0.9, weight_decay=0.0002)\n",
        "\n",
        "train_result = []\n",
        "val_result = []\n",
        "\n",
        "start_time = time.time() # 시작 시간\n",
        "\n",
        "for i in range(epoch):\n",
        "    train_acc, train_loss = train(net, i, optimizer, criterion, train_dataloader) # 학습(training)\n",
        "    val_acc, val_loss = validate(net, i + 1, val_dataloader) # 검증(validation)\n",
        "\n",
        "    # 학습된 모델 저장하기\n",
        "    state = {\n",
        "        'net': net.state_dict()\n",
        "    }\n",
        "    if not os.path.isdir('checkpoint'):\n",
        "        os.mkdir('checkpoint')\n",
        "    torch.save(state, './checkpoint/' + file_name)\n",
        "    print(f'Model saved! (time elapsed: {time.time() - start_time})')\n",
        "\n",
        "    # 현재 epoch에서의 정확도(accuracy)와 손실(loss) 값 저장하기\n",
        "    train_result.append((train_acc, train_loss))\n",
        "    val_result.append((val_acc, val_loss))"
      ],
      "execution_count": 12,
      "outputs": [
        {
          "output_type": "error",
          "ename": "ValueError",
          "evalue": "ignored",
          "traceback": [
            "\u001b[0;31m---------------------------------------------------------------------------\u001b[0m",
            "\u001b[0;31mValueError\u001b[0m                                Traceback (most recent call last)",
            "\u001b[0;32m<ipython-input-12-0253728f8a30>\u001b[0m in \u001b[0;36m<module>\u001b[0;34m\u001b[0m\n\u001b[1;32m     11\u001b[0m \u001b[0;34m\u001b[0m\u001b[0m\n\u001b[1;32m     12\u001b[0m \u001b[0mcriterion\u001b[0m \u001b[0;34m=\u001b[0m \u001b[0mnn\u001b[0m\u001b[0;34m.\u001b[0m\u001b[0mCrossEntropyLoss\u001b[0m\u001b[0;34m(\u001b[0m\u001b[0;34m)\u001b[0m\u001b[0;34m\u001b[0m\u001b[0;34m\u001b[0m\u001b[0m\n\u001b[0;32m---> 13\u001b[0;31m \u001b[0moptimizer\u001b[0m \u001b[0;34m=\u001b[0m \u001b[0moptim\u001b[0m\u001b[0;34m.\u001b[0m\u001b[0mSGD\u001b[0m\u001b[0;34m(\u001b[0m\u001b[0mnet\u001b[0m\u001b[0;34m.\u001b[0m\u001b[0mparameters\u001b[0m\u001b[0;34m(\u001b[0m\u001b[0;34m)\u001b[0m\u001b[0;34m,\u001b[0m \u001b[0mlr\u001b[0m\u001b[0;34m=\u001b[0m\u001b[0mlearning_rate\u001b[0m\u001b[0;34m,\u001b[0m \u001b[0mmomentum\u001b[0m\u001b[0;34m=\u001b[0m\u001b[0;36m0.9\u001b[0m\u001b[0;34m,\u001b[0m \u001b[0mweight_decay\u001b[0m\u001b[0;34m=\u001b[0m\u001b[0;36m0.0002\u001b[0m\u001b[0;34m)\u001b[0m\u001b[0;34m\u001b[0m\u001b[0;34m\u001b[0m\u001b[0m\n\u001b[0m\u001b[1;32m     14\u001b[0m \u001b[0;34m\u001b[0m\u001b[0m\n\u001b[1;32m     15\u001b[0m \u001b[0mtrain_result\u001b[0m \u001b[0;34m=\u001b[0m \u001b[0;34m[\u001b[0m\u001b[0;34m]\u001b[0m\u001b[0;34m\u001b[0m\u001b[0;34m\u001b[0m\u001b[0m\n",
            "\u001b[0;32m/usr/local/lib/python3.7/dist-packages/torch/optim/sgd.py\u001b[0m in \u001b[0;36m__init__\u001b[0;34m(self, params, lr, momentum, dampening, weight_decay, nesterov, maximize, foreach)\u001b[0m\n\u001b[1;32m    103\u001b[0m         \u001b[0;32mif\u001b[0m \u001b[0mnesterov\u001b[0m \u001b[0;32mand\u001b[0m \u001b[0;34m(\u001b[0m\u001b[0mmomentum\u001b[0m \u001b[0;34m<=\u001b[0m \u001b[0;36m0\u001b[0m \u001b[0;32mor\u001b[0m \u001b[0mdampening\u001b[0m \u001b[0;34m!=\u001b[0m \u001b[0;36m0\u001b[0m\u001b[0;34m)\u001b[0m\u001b[0;34m:\u001b[0m\u001b[0;34m\u001b[0m\u001b[0;34m\u001b[0m\u001b[0m\n\u001b[1;32m    104\u001b[0m             \u001b[0;32mraise\u001b[0m \u001b[0mValueError\u001b[0m\u001b[0;34m(\u001b[0m\u001b[0;34m\"Nesterov momentum requires a momentum and zero dampening\"\u001b[0m\u001b[0;34m)\u001b[0m\u001b[0;34m\u001b[0m\u001b[0;34m\u001b[0m\u001b[0m\n\u001b[0;32m--> 105\u001b[0;31m         \u001b[0msuper\u001b[0m\u001b[0;34m(\u001b[0m\u001b[0mSGD\u001b[0m\u001b[0;34m,\u001b[0m \u001b[0mself\u001b[0m\u001b[0;34m)\u001b[0m\u001b[0;34m.\u001b[0m\u001b[0m__init__\u001b[0m\u001b[0;34m(\u001b[0m\u001b[0mparams\u001b[0m\u001b[0;34m,\u001b[0m \u001b[0mdefaults\u001b[0m\u001b[0;34m)\u001b[0m\u001b[0;34m\u001b[0m\u001b[0;34m\u001b[0m\u001b[0m\n\u001b[0m\u001b[1;32m    106\u001b[0m \u001b[0;34m\u001b[0m\u001b[0m\n\u001b[1;32m    107\u001b[0m     \u001b[0;32mdef\u001b[0m \u001b[0m__setstate__\u001b[0m\u001b[0;34m(\u001b[0m\u001b[0mself\u001b[0m\u001b[0;34m,\u001b[0m \u001b[0mstate\u001b[0m\u001b[0;34m)\u001b[0m\u001b[0;34m:\u001b[0m\u001b[0;34m\u001b[0m\u001b[0;34m\u001b[0m\u001b[0m\n",
            "\u001b[0;32m/usr/local/lib/python3.7/dist-packages/torch/optim/optimizer.py\u001b[0m in \u001b[0;36m__init__\u001b[0;34m(self, params, defaults)\u001b[0m\n\u001b[1;32m     47\u001b[0m         \u001b[0mparam_groups\u001b[0m \u001b[0;34m=\u001b[0m \u001b[0mlist\u001b[0m\u001b[0;34m(\u001b[0m\u001b[0mparams\u001b[0m\u001b[0;34m)\u001b[0m\u001b[0;34m\u001b[0m\u001b[0;34m\u001b[0m\u001b[0m\n\u001b[1;32m     48\u001b[0m         \u001b[0;32mif\u001b[0m \u001b[0mlen\u001b[0m\u001b[0;34m(\u001b[0m\u001b[0mparam_groups\u001b[0m\u001b[0;34m)\u001b[0m \u001b[0;34m==\u001b[0m \u001b[0;36m0\u001b[0m\u001b[0;34m:\u001b[0m\u001b[0;34m\u001b[0m\u001b[0;34m\u001b[0m\u001b[0m\n\u001b[0;32m---> 49\u001b[0;31m             \u001b[0;32mraise\u001b[0m \u001b[0mValueError\u001b[0m\u001b[0;34m(\u001b[0m\u001b[0;34m\"optimizer got an empty parameter list\"\u001b[0m\u001b[0;34m)\u001b[0m\u001b[0;34m\u001b[0m\u001b[0;34m\u001b[0m\u001b[0m\n\u001b[0m\u001b[1;32m     50\u001b[0m         \u001b[0;32mif\u001b[0m \u001b[0;32mnot\u001b[0m \u001b[0misinstance\u001b[0m\u001b[0;34m(\u001b[0m\u001b[0mparam_groups\u001b[0m\u001b[0;34m[\u001b[0m\u001b[0;36m0\u001b[0m\u001b[0;34m]\u001b[0m\u001b[0;34m,\u001b[0m \u001b[0mdict\u001b[0m\u001b[0;34m)\u001b[0m\u001b[0;34m:\u001b[0m\u001b[0;34m\u001b[0m\u001b[0;34m\u001b[0m\u001b[0m\n\u001b[1;32m     51\u001b[0m             \u001b[0mparam_groups\u001b[0m \u001b[0;34m=\u001b[0m \u001b[0;34m[\u001b[0m\u001b[0;34m{\u001b[0m\u001b[0;34m'params'\u001b[0m\u001b[0;34m:\u001b[0m \u001b[0mparam_groups\u001b[0m\u001b[0;34m}\u001b[0m\u001b[0;34m]\u001b[0m\u001b[0;34m\u001b[0m\u001b[0;34m\u001b[0m\u001b[0m\n",
            "\u001b[0;31mValueError\u001b[0m: optimizer got an empty parameter list"
          ]
        }
      ]
    },
    {
      "cell_type": "code",
      "metadata": {
        "id": "tUSnpvLwPkfd"
      },
      "source": [
        "# 정확도(accuracy) 커브 시각화\n",
        "plt.subplot(211)\n",
        "plt.plot([i for i in range(epoch)], [i[0] for i in train_result])\n",
        "plt.plot([i for i in range(epoch)], [i[0] for i in val_result])\n",
        "plt.title(\"Accuracy Curve\")\n",
        "plt.xlabel(\"Epoch\")\n",
        "plt.ylabel(\"Accuracy\")\n",
        "plt.legend([\"train\", \"val\"])\n",
        "\n",
        "# 손실(loss) 커브 시각화\n",
        "plt.subplot(212)\n",
        "plt.plot([i for i in range(epoch)], [i[1] for i in train_result])\n",
        "plt.plot([i for i in range(epoch)], [i[1] for i in val_result])\n",
        "plt.title(\"Loss Curve\")\n",
        "plt.xlabel(\"Epoch\")\n",
        "plt.ylabel(\"Loss\")\n",
        "plt.legend([\"train\", \"val\"])\n",
        "\n",
        "plt.tight_layout()\n",
        "plt.show()"
      ],
      "execution_count": null,
      "outputs": []
    },
    {
      "cell_type": "code",
      "metadata": {
        "id": "QZWJpUxDPnHX"
      },
      "source": [
        "import pandas as pd\n",
        "import seaborn as sns\n",
        "\n",
        "\n",
        "net = CustomLeNet()\n",
        "net = net.to(device)\n",
        "\n",
        "file_name = \"./checkpoint/CustomLeNet.pt\"\n",
        "checkpoint = torch.load(file_name)\n",
        "net.load_state_dict(checkpoint['net'])\n",
        "\n",
        "# 평가 데이터셋을 이용해 혼동 행렬(confusion matrix) 계산하기\n",
        "confusion_matrix = get_confusion_matrix(net, 6, val_dataloader)\n",
        "print(\"[ 각 클래스당 데이터 개수 ]\")\n",
        "print(confusion_matrix.sum(1))\n",
        "\n",
        "print(\"[ 혼동 행렬(confusion matrix) 시각화 ]\")\n",
        "res = pd.DataFrame(confusion_matrix.numpy(), index = [i for i in range(6)], columns = [i for i in range(6)])\n",
        "res.index.name = 'True label'\n",
        "res.columns.name = 'Predicted label'\n",
        "plt.figure(figsize = (10, 7))\n",
        "sns.heatmap(res, annot=True, fmt=\"d\", cmap='Blues')\n",
        "plt.show()\n",
        "\n",
        "print(\"[ 각 클래스에 따른 정확도 ]\")\n",
        "# (각 클래스마다 정답 개수 / 각 클래스마다 데이터의 개수)\n",
        "print(confusion_matrix.diag() / confusion_matrix.sum(1))\n",
        "\n",
        "print(\"[ 전체 평균 정확도 ]\")\n",
        "print(confusion_matrix.diag().sum() / confusion_matrix.sum())"
      ],
      "execution_count": null,
      "outputs": []
    },
    {
      "cell_type": "markdown",
      "metadata": {
        "id": "_wehDHvPQ76S"
      },
      "source": [
        "#### <b>Problem 4. AlexNet 아키텍처 작성하기</b>\n",
        "\n",
        "* AlexNet은 CNN 기반의 분류 모델의 우수성을 전 세계에 알린 논문([NIPS 2012](https://papers.nips.cc/paper/2012/file/c399862d3b9d6b76c8436e924a68c45b-Paper.pdf))입니다.\n",
        "    * ImageNet 분류 대회(ILSVRC 2012)에서 압도적인 성능으로 우승(1위)을 차지했습니다.\n",
        "\n",
        "<hr>\n",
        "\n",
        "* LRN (Local Response Normalization)을 활용합니다.\n",
        "    * PyTorch에서 [nn.LocalResponseNorm()](https://pytorch.org/docs/stable/generated/torch.nn.LocalResponseNorm.html)을 이용해 구현할 수 있습니다.\n",
        "    * Local Response Normalization은 입력과 출력의 차원이 동일한 레이어입니다.\n",
        "* Dropout을 활용합니다.\n",
        "    * PyTorch에서 [nn.Dropout()](https://pytorch.org/docs/stable/generated/torch.nn.Dropout.html)을 이용해 구현할 수 있습니다.\n",
        "* ReLU를 적극적으로 활용합니다.\n",
        "    * PyTorch에서 [nn.ReLU()](https://pytorch.org/docs/stable/generated/torch.nn.ReLU.html)를 이용해 구현할 수 있습니다.\n",
        "\n",
        "<hr>\n",
        "\n",
        "* <b>아래의 표</b>와 같은 아키텍처를 PyTorch로 구현해 봅시다.\n",
        "    * 원본 논문에서 제안한 것과 완전히 동일한 아키텍처는 아니지만, 핵심 아이디어를 잘 포함하고 있습니다.\n",
        "\n",
        "Layer | Type | Specification\n",
        ":-: | :-: | ---\n",
        "1 | Input | image size: 3 X 64 X 64\n",
        "2 | Convolution | # of kernel: 96, kernel size: 5 X 5, stride: 1, zero padding: 2\n",
        "3 | Activation | ReLU\n",
        "4 | Normalization | LRN (Local Response Normalization), size: 5\n",
        "5 | Pooling | max pooling, kernel size: 3 X 3, stride: 2\n",
        "6 | Convolution | # of kernel: 256, kernel size: 5 X 5, stride: 1, zero padding: 2\n",
        "7 | Activation | ReLU\n",
        "8 | Normalization | LRN (Local Response Normalization), size: 5\n",
        "9 | Pooling | max pooling, kernel size: 3 X 3, stride: 2\n",
        "10 | Convolution | # of kernel: 384, kernel size: 3 X 3, stride: 1, zero padding: 1\n",
        "11 | Activation | ReLU\n",
        "12 | Convolution | # of kernel: 384, kernel size: 3 X 3, stride: 1, zero padding: 1\n",
        "13 | Activation | ReLU\n",
        "14 | Convolution | # of kernel: 256, kernel size: 3 X 3, stride: 1, zero padding: 1\n",
        "15 | Activation | ReLU\n",
        "16 | Pooling | max pooling, kernel size: 3 X 3, stride: 2\n",
        "17 | Fully Connected | # of neuron: 4096\n",
        "18 | Activation | ReLU\n",
        "19 | Dropout | Probability: 0.5\n",
        "20 | Fully Connected | # of neuron: 6\n",
        "21 | Dropout | Probability: 0.5\n",
        "22 | Softmax | 6 classes\n",
        "\n",
        "* 표와 동일하게 정상적으로 구현했다면, <b>83~85%가량의 정확도</b>를 얻을 수 있습니다."
      ]
    },
    {
      "cell_type": "code",
      "metadata": {
        "id": "LypiakIbakce"
      },
      "source": [
        "class AlexNet(nn.Module):\n",
        "    def __init__(self):\n",
        "        super(AlexNet, self).__init__()\n",
        "        # 이 부분에 소스코드를 작성하세요.\n",
        "\n",
        "    def forward(self, x):\n",
        "        # 이 부분에 소스코드를 작성하세요.\n",
        "        return x"
      ],
      "execution_count": null,
      "outputs": []
    },
    {
      "cell_type": "markdown",
      "metadata": {
        "id": "Wd15jkk01Nwh"
      },
      "source": [
        "#### <b>(알아보기) AlexNet 평가하기</b>\n",
        "\n",
        "* 아래 코드를 실행하여 학습 및 성능 평가를 진행할 수 있습니다.\n",
        "* 83~85%가량의 정확도가 나오지 않는다면, 표와 동일하게 AlexNet 코드를 다시 작성했는지 확인해 주세요."
      ]
    },
    {
      "cell_type": "code",
      "metadata": {
        "id": "dvwjQXacdKqJ"
      },
      "source": [
        "import time\n",
        "import torch.optim as optim\n",
        "\n",
        "\n",
        "net = AlexNet()\n",
        "net = net.to(device)\n",
        "\n",
        "epoch = 30\n",
        "learning_rate = 0.002\n",
        "file_name = \"AlexNet.pt\"\n",
        "\n",
        "criterion = nn.CrossEntropyLoss()\n",
        "optimizer = optim.SGD(net.parameters(), lr=learning_rate, momentum=0.9, weight_decay=0.0002)\n",
        "\n",
        "train_result = []\n",
        "val_result = []\n",
        "\n",
        "start_time = time.time() # 시작 시간\n",
        "\n",
        "for i in range(epoch):\n",
        "    train_acc, train_loss = train(net, i, optimizer, criterion, train_dataloader) # 학습(training)\n",
        "    val_acc, val_loss = validate(net, i + 1, val_dataloader) # 검증(validation)\n",
        "\n",
        "    # 학습된 모델 저장하기\n",
        "    state = {\n",
        "        'net': net.state_dict()\n",
        "    }\n",
        "    if not os.path.isdir('checkpoint'):\n",
        "        os.mkdir('checkpoint')\n",
        "    torch.save(state, './checkpoint/' + file_name)\n",
        "    print(f'Model saved! (time elapsed: {time.time() - start_time})')\n",
        "\n",
        "    # 현재 epoch에서의 정확도(accuracy)와 손실(loss) 값 저장하기\n",
        "    train_result.append((train_acc, train_loss))\n",
        "    val_result.append((val_acc, val_loss))"
      ],
      "execution_count": null,
      "outputs": []
    },
    {
      "cell_type": "code",
      "metadata": {
        "id": "JyFM8ziASRRO"
      },
      "source": [
        "# 정확도(accuracy) 커브 시각화\n",
        "plt.subplot(211)\n",
        "plt.plot([i for i in range(epoch)], [i[0] for i in train_result])\n",
        "plt.plot([i for i in range(epoch)], [i[0] for i in val_result])\n",
        "plt.title(\"Accuracy Curve\")\n",
        "plt.xlabel(\"Epoch\")\n",
        "plt.ylabel(\"Accuracy\")\n",
        "plt.legend([\"train\", \"val\"])\n",
        "\n",
        "# 손실(loss) 커브 시각화\n",
        "plt.subplot(212)\n",
        "plt.plot([i for i in range(epoch)], [i[1] for i in train_result])\n",
        "plt.plot([i for i in range(epoch)], [i[1] for i in val_result])\n",
        "plt.title(\"Loss Curve\")\n",
        "plt.xlabel(\"Epoch\")\n",
        "plt.ylabel(\"Loss\")\n",
        "plt.legend([\"train\", \"val\"])\n",
        "\n",
        "plt.tight_layout()\n",
        "plt.show()"
      ],
      "execution_count": null,
      "outputs": []
    },
    {
      "cell_type": "code",
      "metadata": {
        "id": "7eo4EiGdkcEz"
      },
      "source": [
        "import pandas as pd\n",
        "import seaborn as sns\n",
        "\n",
        "\n",
        "net = AlexNet()\n",
        "net = net.to(device)\n",
        "\n",
        "file_name = \"./checkpoint/AlexNet.pt\"\n",
        "checkpoint = torch.load(file_name)\n",
        "net.load_state_dict(checkpoint['net'])\n",
        "\n",
        "# 평가 데이터셋을 이용해 혼동 행렬(confusion matrix) 계산하기\n",
        "confusion_matrix = get_confusion_matrix(net, 6, val_dataloader)\n",
        "print(\"[ 각 클래스당 데이터 개수 ]\")\n",
        "print(confusion_matrix.sum(1))\n",
        "\n",
        "print(\"[ 혼동 행렬(confusion matrix) 시각화 ]\")\n",
        "res = pd.DataFrame(confusion_matrix.numpy(), index = [i for i in range(6)], columns = [i for i in range(6)])\n",
        "res.index.name = 'True label'\n",
        "res.columns.name = 'Predicted label'\n",
        "plt.figure(figsize = (10, 7))\n",
        "sns.heatmap(res, annot=True, fmt=\"d\", cmap='Blues')\n",
        "plt.show()\n",
        "\n",
        "print(\"[ 각 클래스에 따른 정확도 ]\")\n",
        "# (각 클래스마다 정답 개수 / 각 클래스마다 데이터의 개수)\n",
        "print(confusion_matrix.diag() / confusion_matrix.sum(1))\n",
        "\n",
        "print(\"[ 전체 평균 정확도 ]\")\n",
        "print(confusion_matrix.diag().sum() / confusion_matrix.sum())"
      ],
      "execution_count": null,
      "outputs": []
    },
    {
      "cell_type": "markdown",
      "metadata": {
        "id": "rCHvPYRJRhx5"
      },
      "source": [
        "#### <b>(알아보기) LightResNet 아키텍처 살펴보기</b>\n",
        "\n",
        "* [ResNet (2016 CVPR)](https://arxiv.org/abs/1512.03385) 논문에서 제안된 가벼운 ResNet을 PyTorch로 구현한 것은 다음과 같습니다.\n",
        "    * 원본 논문에서는 CIFAR-10을 위하여 해당 아키텍처를 제안했습니다.\n",
        "* 레이어의 깊이에 따라 다양한 버전이 있습니다.\n",
        "    * 다양한 버전: 20 레이어, 32 레이어, 44 레이어, 56 레이어, 110 레이어\n",
        "    * 일반적으로 더 깊은 레이어로 구성된 ResNet이 더 높은 정확도를 보입니다."
      ]
    },
    {
      "cell_type": "code",
      "metadata": {
        "id": "2r-MHhcAOr6K"
      },
      "source": [
        "# ResNet을 위한 BasicBlock 클래스 정의\n",
        "class BasicBlock(nn.Module):\n",
        "    def __init__(self, in_planes, planes, stride=1):\n",
        "        super(BasicBlock, self).__init__()\n",
        "\n",
        "        # 3x3 필터를 사용 (stride 값이 2라면, 너비와 높이가 절반으로 감소)\n",
        "        self.conv1 = nn.Conv2d(in_planes, planes, kernel_size=3, stride=stride, padding=1, bias=False)\n",
        "        self.bn1 = nn.BatchNorm2d(planes) # 배치 정규화(batch normalization)\n",
        "\n",
        "        # 3x3 필터를 사용 (stride 값이 1이므로, 너비와 높이가 유지)\n",
        "        self.conv2 = nn.Conv2d(planes, planes, kernel_size=3, stride=1, padding=1, bias=False)\n",
        "        self.bn2 = nn.BatchNorm2d(planes) # 배치 정규화(batch normalization)\n",
        "\n",
        "        self.shortcut = nn.Sequential() # identity인 경우\n",
        "        if stride != 1: # stride가 1이 아니라면, identity mapping이 아닌 경우\n",
        "            self.shortcut = nn.Sequential(\n",
        "                nn.Conv2d(in_planes, planes, kernel_size=1, stride=stride, padding=0, bias=False),\n",
        "                nn.BatchNorm2d(planes)\n",
        "            )\n",
        "\n",
        "    def forward(self, x):\n",
        "        out = F.relu(self.bn1(self.conv1(x)))\n",
        "        out = self.bn2(self.conv2(out))\n",
        "        out += self.shortcut(x) # (핵심) skip connection\n",
        "        out = F.relu(out)\n",
        "        return out\n",
        "\n",
        "\n",
        "# LightResNet 클래스 정의\n",
        "class LightResNet(nn.Module):\n",
        "    def __init__(self, block, num_blocks, num_classes=6):\n",
        "        super(LightResNet, self).__init__()\n",
        "        self.in_planes = 16\n",
        "\n",
        "        # 16개의 3x3 필터(filter)를 사용\n",
        "        self.conv1 = nn.Conv2d(3, 16, kernel_size=3, stride=1, padding=1, bias=False)\n",
        "        self.bn1 = nn.BatchNorm2d(16)\n",
        "        # 첫 레이어를 제외하고는 너비와 높이를 줄이기 위해 stride를 2로 설정\n",
        "        self.layer1 = self._make_layer(block, 16, num_blocks[0], stride=1)\n",
        "        self.layer2 = self._make_layer(block, 32, num_blocks[1], stride=2)\n",
        "        self.layer3 = self._make_layer(block, 64, num_blocks[2], stride=2)\n",
        "        self.linear = nn.Linear(64, num_classes)\n",
        "\n",
        "    def _make_layer(self, block, planes, num_blocks, stride):\n",
        "        strides = [stride] + [1] * (num_blocks - 1) # 첫째 블록만 너비와 높이 감소\n",
        "        layers = []\n",
        "        for stride in strides:\n",
        "            layers.append(block(self.in_planes, planes, stride))\n",
        "            self.in_planes = planes # 다음 레이어를 위해 채널 수 변경\n",
        "        return nn.Sequential(*layers)\n",
        "\n",
        "    def forward(self, x):\n",
        "        out = F.relu(self.bn1(self.conv1(x)))\n",
        "        out = self.layer1(out)\n",
        "        out = self.layer2(out)\n",
        "        out = self.layer3(out)\n",
        "        out = F.avg_pool2d(out, out.size()[3])\n",
        "        out = out.view(out.size(0), -1) # 배치(batch)를 제외한 모든 차원 flatten하기\n",
        "        out = self.linear(out)\n",
        "        return out\n",
        "\n",
        "\n",
        "def LightResNet20():\n",
        "    return LightResNet(BasicBlock, [3, 3, 3])\n",
        "\n",
        "\n",
        "def LightResNet32():\n",
        "    return LightResNet(BasicBlock, [5, 5, 5])\n",
        "\n",
        "\n",
        "def LightResNet44():\n",
        "    return LightResNet(BasicBlock, [7, 7, 7])\n",
        "\n",
        "\n",
        "def LightResNet56():\n",
        "    return LightResNet(BasicBlock, [9, 9, 9])\n",
        "\n",
        "\n",
        "def LightResNet110():\n",
        "    return LightResNet(BasicBlock, [18, 18, 18])"
      ],
      "execution_count": null,
      "outputs": []
    },
    {
      "cell_type": "markdown",
      "metadata": {
        "id": "bDN-oMcGTWFf"
      },
      "source": [
        "#### <b>(알아보기) LightResNet-20 학습하기</b>\n",
        "\n",
        "* PyTorch로 구현된 LightResNet-20 모델을 학습해 봅시다."
      ]
    },
    {
      "cell_type": "code",
      "metadata": {
        "id": "d2SNTw-yp6MT"
      },
      "source": [
        "import time\n",
        "import torch.optim as optim\n",
        "\n",
        "\n",
        "net = LightResNet20()\n",
        "net = net.to(device)\n",
        "\n",
        "epoch = 30\n",
        "learning_rate = 0.002\n",
        "file_name = \"LightResNet20.pt\"\n",
        "\n",
        "criterion = nn.CrossEntropyLoss()\n",
        "optimizer = optim.SGD(net.parameters(), lr=learning_rate, momentum=0.9, weight_decay=0.0002)\n",
        "\n",
        "train_result = []\n",
        "val_result = []\n",
        "\n",
        "start_time = time.time() # 시작 시간\n",
        "\n",
        "for i in range(epoch):\n",
        "    train_acc, train_loss = train(net, i, optimizer, criterion, train_dataloader) # 학습(training)\n",
        "    val_acc, val_loss = validate(net, i + 1, val_dataloader) # 검증(validation)\n",
        "\n",
        "    # 학습된 모델 저장하기\n",
        "    state = {\n",
        "        'net': net.state_dict()\n",
        "    }\n",
        "    if not os.path.isdir('checkpoint'):\n",
        "        os.mkdir('checkpoint')\n",
        "    torch.save(state, './checkpoint/' + file_name)\n",
        "    print(f'Model saved! (time elapsed: {time.time() - start_time})')\n",
        "\n",
        "    # 현재 epoch에서의 정확도(accuracy)와 손실(loss) 값 저장하기\n",
        "    train_result.append((train_acc, train_loss))\n",
        "    val_result.append((val_acc, val_loss))"
      ],
      "execution_count": null,
      "outputs": []
    },
    {
      "cell_type": "code",
      "metadata": {
        "id": "Mcb5jAsatD7L"
      },
      "source": [
        "# 정확도(accuracy) 커브 시각화\n",
        "plt.subplot(211)\n",
        "plt.plot([i for i in range(epoch)], [i[0] for i in train_result])\n",
        "plt.plot([i for i in range(epoch)], [i[0] for i in val_result])\n",
        "plt.title(\"Accuracy Curve\")\n",
        "plt.xlabel(\"Epoch\")\n",
        "plt.ylabel(\"Accuracy\")\n",
        "plt.legend([\"train\", \"val\"])\n",
        "\n",
        "# 손실(loss) 커브 시각화\n",
        "plt.subplot(212)\n",
        "plt.plot([i for i in range(epoch)], [i[1] for i in train_result])\n",
        "plt.plot([i for i in range(epoch)], [i[1] for i in val_result])\n",
        "plt.title(\"Loss Curve\")\n",
        "plt.xlabel(\"Epoch\")\n",
        "plt.ylabel(\"Loss\")\n",
        "plt.legend([\"train\", \"val\"])\n",
        "\n",
        "plt.tight_layout()\n",
        "plt.show()"
      ],
      "execution_count": null,
      "outputs": []
    },
    {
      "cell_type": "code",
      "metadata": {
        "id": "tSfCyGRBtGz8"
      },
      "source": [
        "import pandas as pd\n",
        "import seaborn as sns\n",
        "\n",
        "\n",
        "net = LightResNet20()\n",
        "net = net.to(device)\n",
        "\n",
        "file_name = \"./checkpoint/LightResNet20.pt\"\n",
        "checkpoint = torch.load(file_name)\n",
        "net.load_state_dict(checkpoint['net'])\n",
        "\n",
        "# 평가 데이터셋을 이용해 혼동 행렬(confusion matrix) 계산하기\n",
        "confusion_matrix = get_confusion_matrix(net, 6, val_dataloader)\n",
        "print(\"[ 각 클래스당 데이터 개수 ]\")\n",
        "print(confusion_matrix.sum(1))\n",
        "\n",
        "print(\"[ 혼동 행렬(confusion matrix) 시각화 ]\")\n",
        "res = pd.DataFrame(confusion_matrix.numpy(), index = [i for i in range(6)], columns = [i for i in range(6)])\n",
        "res.index.name = 'True label'\n",
        "res.columns.name = 'Predicted label'\n",
        "plt.figure(figsize = (10, 7))\n",
        "sns.heatmap(res, annot=True, fmt=\"d\", cmap='Blues')\n",
        "plt.show()\n",
        "\n",
        "print(\"[ 각 클래스에 따른 정확도 ]\")\n",
        "# (각 클래스마다 정답 개수 / 각 클래스마다 데이터의 개수)\n",
        "print(confusion_matrix.diag() / confusion_matrix.sum(1))\n",
        "\n",
        "print(\"[ 전체 평균 정확도 ]\")\n",
        "print(confusion_matrix.diag().sum() / confusion_matrix.sum())"
      ],
      "execution_count": null,
      "outputs": []
    },
    {
      "cell_type": "markdown",
      "metadata": {
        "id": "XkmGJobUUj3O"
      },
      "source": [
        "#### <b>Problem 5. 다양한 레이어 깊이에 따라 LightResNet 학습하기</b>\n",
        "\n",
        "* Residual Block을 사용하는 경우 깊이가 깊어져도 좋은 성능을 내는 경향이 있습니다.\n",
        "* 다음의 LightResNet 모델들에 대하여 각각 학습을 진행한 뒤에, 검증 정확도(validation accuracy)를 쓰세요.\n",
        "    * LightResNet32: {답을 쓰세요.}\n",
        "    * LightResNet56: {답을 쓰세요.}\n",
        "    * LightResNet110: {답을 쓰세요.}\n",
        "* 레이어가 깊어짐에 따라서 성능이 좋아지나요? {답을 쓰세요.}\n",
        "    * 그 이유는: {답을 쓰세요.}"
      ]
    },
    {
      "cell_type": "code",
      "metadata": {
        "id": "j-wmJNnTZkhB"
      },
      "source": [],
      "execution_count": null,
      "outputs": []
    },
    {
      "cell_type": "markdown",
      "metadata": {
        "id": "0QjvINhpruJ6"
      },
      "source": [
        "#### <b>(알아보기) ResNet 아키텍처 살펴보기</b>\n",
        "\n",
        "* [ResNet (2016 CVPR)](https://arxiv.org/abs/1512.03385) 논문에서 제안된 기본적인 ResNet의 핵심 아이디어를 PyTorch로 구현한 것은 다음과 같습니다.\n",
        "    * LightResNet에 비하여 <b>커널의 개수(number of kernels)가 많은</b> 것을 확인할 수 있습니다.\n",
        "    * 따라서 ImageNet과 같은 큰 규모의 데이터셋에 대해서 사용하기에 적합합니다.\n",
        "* (참고) [PyTorch 공식 ResNet 소스 코드](https://github.com/pytorch/vision/blob/master/torchvision/models/resnet.py)"
      ]
    },
    {
      "cell_type": "code",
      "metadata": {
        "id": "zzE8PvwNp9tJ"
      },
      "source": [
        "# ResNet 클래스 정의\n",
        "class ResNet(nn.Module):\n",
        "    def __init__(self, block, num_blocks, num_classes=6):\n",
        "        super(ResNet, self).__init__()\n",
        "        self.in_planes = 64\n",
        "\n",
        "        # 64개의 3x3 필터(filter)를 사용\n",
        "        self.conv1 = nn.Conv2d(3, 64, kernel_size=3, stride=1, padding=1, bias=False)\n",
        "        self.bn1 = nn.BatchNorm2d(64)\n",
        "        # 첫 레이어를 제외하고는 너비와 높이를 줄이기 위해 stride를 2로 설정\n",
        "        self.layer1 = self._make_layer(block, 64, num_blocks[0], stride=1)\n",
        "        self.layer2 = self._make_layer(block, 128, num_blocks[1], stride=2)\n",
        "        self.layer3 = self._make_layer(block, 256, num_blocks[2], stride=2)\n",
        "        self.layer4 = self._make_layer(block, 512, num_blocks[3], stride=2)\n",
        "        self.linear = nn.Linear(512, num_classes)\n",
        "\n",
        "    def _make_layer(self, block, planes, num_blocks, stride):\n",
        "        strides = [stride] + [1] * (num_blocks - 1) # 첫째 블록만 너비와 높이 감소\n",
        "        layers = []\n",
        "        for stride in strides:\n",
        "            layers.append(block(self.in_planes, planes, stride))\n",
        "            self.in_planes = planes # 다음 레이어를 위해 채널 수 변경\n",
        "        return nn.Sequential(*layers)\n",
        "\n",
        "    def forward(self, x):\n",
        "        out = F.relu(self.bn1(self.conv1(x)))\n",
        "        out = self.layer1(out)\n",
        "        out = self.layer2(out)\n",
        "        out = self.layer3(out)\n",
        "        out = self.layer4(out)\n",
        "        out = F.avg_pool2d(out, out.size()[3])\n",
        "        out = out.view(out.size(0), -1) # 배치(batch)를 제외한 모든 차원 flatten하기\n",
        "        out = self.linear(out)\n",
        "        return out\n",
        "\n",
        "\n",
        "def ResNet18():\n",
        "    return ResNet(BasicBlock, [2, 2, 2, 2])\n",
        "\n",
        "\n",
        "def ResNet34():\n",
        "    return ResNet(BasicBlock, [3, 4, 6, 3])"
      ],
      "execution_count": null,
      "outputs": []
    },
    {
      "cell_type": "markdown",
      "metadata": {
        "id": "QuEdDn17Vfzx"
      },
      "source": [
        "#### <b>(알아보기) ResNet-18 학습하기</b>\n",
        "\n",
        "* PyTorch로 구현된 ResNet-18 모델을 학습해 봅시다."
      ]
    },
    {
      "cell_type": "code",
      "metadata": {
        "id": "KJsUaqjgu4hB"
      },
      "source": [
        "import time\n",
        "import torch.optim as optim\n",
        "\n",
        "\n",
        "net = ResNet18()\n",
        "net = net.to(device)\n",
        "\n",
        "epoch = 30\n",
        "learning_rate = 0.002\n",
        "file_name = \"ResNet18.pt\"\n",
        "\n",
        "criterion = nn.CrossEntropyLoss()\n",
        "optimizer = optim.SGD(net.parameters(), lr=learning_rate, momentum=0.9, weight_decay=0.0002)\n",
        "\n",
        "train_result = []\n",
        "val_result = []\n",
        "\n",
        "start_time = time.time() # 시작 시간\n",
        "\n",
        "for i in range(epoch):\n",
        "    train_acc, train_loss = train(net, i, optimizer, criterion, train_dataloader) # 학습(training)\n",
        "    val_acc, val_loss = validate(net, i + 1, val_dataloader) # 검증(validation)\n",
        "\n",
        "    # 학습된 모델 저장하기\n",
        "    state = {\n",
        "        'net': net.state_dict()\n",
        "    }\n",
        "    if not os.path.isdir('checkpoint'):\n",
        "        os.mkdir('checkpoint')\n",
        "    torch.save(state, './checkpoint/' + file_name)\n",
        "    print(f'Model saved! (time elapsed: {time.time() - start_time})')\n",
        "\n",
        "    # 현재 epoch에서의 정확도(accuracy)와 손실(loss) 값 저장하기\n",
        "    train_result.append((train_acc, train_loss))\n",
        "    val_result.append((val_acc, val_loss))"
      ],
      "execution_count": null,
      "outputs": []
    },
    {
      "cell_type": "code",
      "metadata": {
        "id": "S1uQmir51csA"
      },
      "source": [
        "# 정확도(accuracy) 커브 시각화\n",
        "plt.subplot(211)\n",
        "plt.plot([i for i in range(epoch)], [i[0] for i in train_result])\n",
        "plt.plot([i for i in range(epoch)], [i[0] for i in val_result])\n",
        "plt.title(\"Accuracy Curve\")\n",
        "plt.xlabel(\"Epoch\")\n",
        "plt.ylabel(\"Accuracy\")\n",
        "plt.legend([\"train\", \"val\"])\n",
        "\n",
        "# 손실(loss) 커브 시각화\n",
        "plt.subplot(212)\n",
        "plt.plot([i for i in range(epoch)], [i[1] for i in train_result])\n",
        "plt.plot([i for i in range(epoch)], [i[1] for i in val_result])\n",
        "plt.title(\"Loss Curve\")\n",
        "plt.xlabel(\"Epoch\")\n",
        "plt.ylabel(\"Loss\")\n",
        "plt.legend([\"train\", \"val\"])\n",
        "\n",
        "plt.tight_layout()\n",
        "plt.show()"
      ],
      "execution_count": null,
      "outputs": []
    },
    {
      "cell_type": "code",
      "metadata": {
        "id": "rOlOi0SuVuFF"
      },
      "source": [
        "import pandas as pd\n",
        "import seaborn as sns\n",
        "\n",
        "\n",
        "net = ResNet18()\n",
        "net = net.to(device)\n",
        "\n",
        "file_name = \"./checkpoint/ResNet18.pt\"\n",
        "checkpoint = torch.load(file_name)\n",
        "net.load_state_dict(checkpoint['net'])\n",
        "\n",
        "# 평가 데이터셋을 이용해 혼동 행렬(confusion matrix) 계산하기\n",
        "confusion_matrix = get_confusion_matrix(net, 6, val_dataloader)\n",
        "print(\"[ 각 클래스당 데이터 개수 ]\")\n",
        "print(confusion_matrix.sum(1))\n",
        "\n",
        "print(\"[ 혼동 행렬(confusion matrix) 시각화 ]\")\n",
        "res = pd.DataFrame(confusion_matrix.numpy(), index = [i for i in range(6)], columns = [i for i in range(6)])\n",
        "res.index.name = 'True label'\n",
        "res.columns.name = 'Predicted label'\n",
        "plt.figure(figsize = (10, 7))\n",
        "sns.heatmap(res, annot=True, fmt=\"d\", cmap='Blues')\n",
        "plt.show()\n",
        "\n",
        "print(\"[ 각 클래스에 따른 정확도 ]\")\n",
        "# (각 클래스마다 정답 개수 / 각 클래스마다 데이터의 개수)\n",
        "print(confusion_matrix.diag() / confusion_matrix.sum(1))\n",
        "\n",
        "print(\"[ 전체 평균 정확도 ]\")\n",
        "print(confusion_matrix.diag().sum() / confusion_matrix.sum())"
      ],
      "execution_count": null,
      "outputs": []
    },
    {
      "cell_type": "markdown",
      "metadata": {
        "id": "ZeooK17MxVuL"
      },
      "source": [
        "#### <b>(알아보기) Input Mixup 살펴보기</b>\n",
        "\n",
        "* Mixup은 대표적인 데이터 증진(data augmentation) 기법으로 정확도 향상에 도움이 됩니다.\n",
        "    * 일반적으로 Mixup을 사용하는 경우 더 많은 횟수(1.5배가량)의 epoch이 요구됩니다."
      ]
    },
    {
      "cell_type": "code",
      "metadata": {
        "id": "VKLaIEqDxYio"
      },
      "source": [
        "mixup_alpha = 1.0\n",
        "\n",
        "\n",
        "def mixup_data(x, y):\n",
        "    lam = np.random.beta(mixup_alpha, mixup_alpha)\n",
        "    batch_size = x.size()[0]\n",
        "    index = torch.randperm(batch_size).cuda()\n",
        "    mixed_x = lam * x + (1 - lam) * x[index]\n",
        "    y_a, y_b = y, y[index]\n",
        "    return mixed_x, y_a, y_b, lam\n",
        "\n",
        "\n",
        "def mixup_criterion(criterion, pred, y_a, y_b, lam):\n",
        "    return lam * criterion(pred, y_a) + (1 - lam) * criterion(pred, y_b)\n",
        "\n",
        "\n",
        "def train_with_mixup(net, epoch, optimizer, criterion, train_dataloader):\n",
        "    print('[ Train epoch: %d ]' % epoch)\n",
        "    net.train() # 모델을 학습 모드로 설정\n",
        "    train_loss = 0\n",
        "    correct = 0\n",
        "    total = 0\n",
        "    for batch_idx, (inputs, targets) in enumerate(train_dataloader):\n",
        "        inputs, targets = inputs.to(device), targets.to(device)\n",
        "        inputs, targets_a, targets_b, lam = mixup_data(inputs, targets) # Mixup 진행\n",
        "        optimizer.zero_grad() # 기울기(gradient) 초기화\n",
        "\n",
        "        outputs = net(inputs) # 모델 입력하여 결과 계산\n",
        "        loss = mixup_criterion(criterion, outputs, targets_a, targets_b, lam) # 손실(loss) 값 계산\n",
        "        loss.backward() # 역전파를 통해 기울기(gradient) 계산\n",
        "\n",
        "        optimizer.step() # 계산된 기울기를 이용해 모델 가중치 업데이트\n",
        "        train_loss += loss.item()\n",
        "        _, predicted = outputs.max(1)\n",
        "\n",
        "        total += targets.size(0)\n",
        "        correct += (lam * predicted.eq(targets_a).sum().item() + (1 - lam) * predicted.eq(targets_b).sum().item())\n",
        "\n",
        "    print('Train accuarcy:', 100. * correct / total)\n",
        "    print('Train average loss:', train_loss / total)\n",
        "    return (100. * correct / total, train_loss / total)"
      ],
      "execution_count": null,
      "outputs": []
    },
    {
      "cell_type": "markdown",
      "metadata": {
        "id": "EnHP2jKxWeSF"
      },
      "source": [
        "#### <b>Problem 6. Mixup 결과 분석하기</b>\n",
        "\n",
        "* Mixup을 사용하여 ResNet-18에 대하여 50번 epoch만큼 학습을 진행한 뒤에 성능이 얼마나 개선되었는지 쓰세요.\n",
        "    * Mixup을 적용했을 때의 검증 정확도(validation accuracy): {답을 쓰세요.}"
      ]
    },
    {
      "cell_type": "code",
      "metadata": {
        "id": "MI8Ahzq83cfi"
      },
      "source": [],
      "execution_count": null,
      "outputs": []
    },
    {
      "cell_type": "markdown",
      "metadata": {
        "id": "A9Z7Sts2W9mW"
      },
      "source": [
        "#### <b>(알아보기) Transfer Learning 살펴보기</b>\n",
        "\n",
        "* 전이 학습(Transfer Learning)은 <b>단기간에 우수한 정확도</b>를 얻기 위해 효과적으로 사용할 수 있는 기법입니다.\n",
        "    * 본 실습에서는 미세 조정(fine-tuning) 기법을 사용합니다.\n",
        "    * 적은 epoch만으로도 빠르게 수렴합니다.\n",
        "* 전이 학습을 위해서는, 사전 학습된(pre-trained) 네트워크와 동일한 크기의 입력 차원을 갖도록 <b>데이터셋을 수정</b>해야 합니다.\n",
        "    * ResNet 특성상 데이터셋 수정 없이도 동작할 수 있지만, 일반적으로 데이터셋을 수정합니다.\n",
        "* (참고) [PyTorch 공식 Transfer Learning 튜토리얼](https://pytorch.org/tutorials/beginner/transfer_learning_tutorial.html)\n",
        "* 기본적인 Transfer Learning을 이용해 91~93%의 정확도를 얻을 수 있습니다."
      ]
    },
    {
      "cell_type": "code",
      "metadata": {
        "id": "2PGkq7Nq2BpQ"
      },
      "source": [
        "transforms_train_transferred = transforms.Compose([\n",
        "    transforms.RandomResizedCrop((224, 224)),\n",
        "    transforms.RandomHorizontalFlip(),\n",
        "    transforms.ToTensor(),\n",
        "    transforms.Normalize([0.485, 0.456, 0.406], [0.229, 0.224, 0.225]) # 정규화(normalization)\n",
        "])\n",
        "\n",
        "transforms_val_transferred = transforms.Compose([\n",
        "    transforms.Resize((224, 224)),\n",
        "    transforms.ToTensor(),\n",
        "    transforms.Normalize([0.485, 0.456, 0.406], [0.229, 0.224, 0.225])\n",
        "])\n",
        "\n",
        "train_dataset_transferred = datasets.ImageFolder(train_path, transforms_train_transferred)\n",
        "val_dataset_transferred = datasets.ImageFolder(val_path, transforms_val_transferred)\n",
        "\n",
        "train_dataloader_transferred = torch.utils.data.DataLoader(train_dataset_transferred, batch_size=16, shuffle=True, num_workers=2)\n",
        "val_dataloader_transferred = torch.utils.data.DataLoader(val_dataset_transferred, batch_size=16, shuffle=True, num_workers=2)\n",
        "\n",
        "print('Training dataset size:', len(train_dataset_transferred))\n",
        "print('Validation dataset size:', len(val_dataset_transferred))\n",
        "\n",
        "class_names = train_dataset_transferred.classes\n",
        "print('Class names:', class_names)"
      ],
      "execution_count": null,
      "outputs": []
    },
    {
      "cell_type": "code",
      "metadata": {
        "id": "paIwaa7xz80g"
      },
      "source": [
        "net = torchvision.models.resnet18(pretrained=True)\n",
        "\n",
        "# 마지막 레이어의 차원을 6차원으로 조절\n",
        "num_features = net.fc.in_features\n",
        "net.fc = nn.Linear(num_features, 6)\n",
        "net = net.to(device)\n",
        "\n",
        "epoch = 20\n",
        "learning_rate = 0.001 # 일반적으로 fine-tuning을 진행할 때는 학습률(learning rate)을 낮게 설정\n",
        "file_name = \"ResNet18Transferred.pt\"\n",
        "\n",
        "criterion = nn.CrossEntropyLoss()\n",
        "optimizer = optim.SGD(net.parameters(), lr=learning_rate, momentum=0.9, weight_decay=0.0002)\n",
        "\n",
        "train_result = []\n",
        "val_result = []\n",
        "\n",
        "start_time = time.time() # 시작 시간\n",
        "\n",
        "for i in range(epoch):\n",
        "    train_acc, train_loss = train(net, i, optimizer, criterion, train_dataloader_transferred) # 학습(training)\n",
        "    val_acc, val_loss = validate(net, i + 1, val_dataloader_transferred) # 검증(validation)\n",
        "\n",
        "    # 학습된 모델 저장하기\n",
        "    state = {\n",
        "        'net': net.state_dict()\n",
        "    }\n",
        "    if not os.path.isdir('checkpoint'):\n",
        "        os.mkdir('checkpoint')\n",
        "    torch.save(state, './checkpoint/' + file_name)\n",
        "    print(f'Model saved! (time elapsed: {time.time() - start_time})')\n",
        "\n",
        "    # 현재 epoch에서의 정확도(accuracy)와 손실(loss) 값 저장하기\n",
        "    train_result.append((train_acc, train_loss))\n",
        "    val_result.append((val_acc, val_loss))"
      ],
      "execution_count": null,
      "outputs": []
    },
    {
      "cell_type": "markdown",
      "metadata": {
        "id": "c1uVfNbJ0UgI"
      },
      "source": [
        "#### <b>Problem 7. State-of-the-Art 성능 만들기</b>\n",
        "\n",
        "* SOTA 수준의 성능을 만들어 보세요.\n",
        "* (참고) Transfer Learning과 Mixup을 함께 사용해 보세요.\n",
        "    * 더 큰 규모의 사전 학습된 모델(ResNet-50 이상)을 이용해 보세요.\n",
        "* (참고) learning rate scheduler를 사용해 보세요.\n",
        "\n",
        "<pre>\n",
        "def adjust_learning_rate(optimizer, epoch):\n",
        "    lr = learning_rate\n",
        "    if epoch >= 20:\n",
        "        lr /= 8\n",
        "    if epoch >= 40:\n",
        "        lr /= 8\n",
        "    for param_group in optimizer.param_groups:\n",
        "        param_group['lr'] = lr\n",
        "</pre>\n",
        "\n",
        "* 대회(competition)에 참여하고 있다고 생각하고, <b>94% 이상의 정확도</b>를 만들어 보세요.\n",
        "    * 내 모델의 검증 정확도(validation accuracy): {답을 쓰세요.}\n"
      ]
    },
    {
      "cell_type": "code",
      "metadata": {
        "id": "cEFp4VF9lC_N"
      },
      "source": [],
      "execution_count": null,
      "outputs": []
    }
  ]
}